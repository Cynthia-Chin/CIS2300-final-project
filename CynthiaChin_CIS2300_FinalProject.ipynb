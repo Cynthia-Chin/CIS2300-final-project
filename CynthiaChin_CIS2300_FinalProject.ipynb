{
  "nbformat": 4,
  "nbformat_minor": 0,
  "metadata": {
    "colab": {
      "provenance": [],
      "authorship_tag": "ABX9TyM2OFrXZN4nssQzr14wAs5V"
    },
    "kernelspec": {
      "name": "python3",
      "display_name": "Python 3"
    },
    "language_info": {
      "name": "python"
    }
  },
  "cells": [
    {
      "cell_type": "markdown",
      "source": [
        "Natural Disasters and Weather\n",
        "------------\n",
        "Natural disasters are becoming more frequent due to climate change. Understanding how weather patterns correlate to the different disasters may provide insight for better prediction and preparedness. By combining historical disasters data with weather information, the project aims to help discover patterns that may be useful for future forecasting.\n",
        "\n",
        "The objective of this project is to determine if temperature data has a measurable correlation to the occurrence of natural disasters.\n",
        "\n",
        "--------\n",
        "Data from https://public.emdat.be/data\n",
        "*   Classification: Natural\n",
        "*   Countries: Africa, Americas, Asia, Europe, Oceania\n",
        "*   Time period: 2000 to 2025\n",
        "--------------\n",
        "Get API key from https://www.worldweatheronline.com/weather-api/"
      ],
      "metadata": {
        "id": "Wx9yml-ExTIy"
      }
    },
    {
      "cell_type": "code",
      "source": [
        "import pandas as pd\n",
        "import numpy as np\n",
        "import matplotlib.pyplot as plt\n",
        "import seaborn as sns\n",
        "import requests\n",
        "from google.colab import userdata\n",
        "import time\n",
        "import datetime\n",
        "\n",
        "api_key = userdata.get('worldweatherAPIkey')\n",
        "!curl -L \"https://raw.githubusercontent.com/Cynthia-Chin/CIS2300-final-project/main/emdat_disasters.xlsx\" -o emdat_disasters.xlsx\n",
        "\n",
        "excel_file = \"emdat_disasters.xlsx\"\n",
        "disasters = pd.read_excel(excel_file)\n",
        "\n",
        "csv_file = \"emdat_disasters.csv\"\n",
        "disasters.to_csv(csv_file, index=False)\n",
        "\n"
      ],
      "metadata": {
        "colab": {
          "base_uri": "https://localhost:8080/"
        },
        "id": "zmc7vUhHJeJU",
        "outputId": "a687e9e3-68f4-44c4-acc9-f73958b43201"
      },
      "execution_count": 1,
      "outputs": [
        {
          "output_type": "stream",
          "name": "stdout",
          "text": [
            "  % Total    % Received % Xferd  Average Speed   Time    Time     Time  Current\n",
            "                                 Dload  Upload   Total   Spent    Left  Speed\n",
            "100 3114k  100 3114k    0     0  2903k      0  0:00:01  0:00:01 --:--:-- 2905k\n"
          ]
        }
      ]
    },
    {
      "cell_type": "code",
      "source": [
        "disasters = disasters.dropna(subset=['Start Year', 'Start Month', 'Start Day'])\n",
        "\n",
        "df_selected = disasters[['Start Year', 'Start Month', 'Start Day', 'Country', 'Disaster Type']].copy()\n",
        "\n",
        "df_selected.loc[:, 'Start Year'] = df_selected['Start Year'].astype(int)\n",
        "df_selected.loc[:, 'Start Month'] = df_selected['Start Month'].astype(int)\n",
        "df_selected.loc[:, 'Start Day'] = df_selected['Start Day'].astype(int)\n",
        "\n",
        "df_selected.loc[:, 'start_date'] = pd.to_datetime({\n",
        "    'year': df_selected['Start Year'],\n",
        "    'month': df_selected['Start Month'],\n",
        "    'day': df_selected['Start Day']\n",
        "})\n",
        "\n",
        "df_selected = df_selected[['start_date', 'Country', 'Disaster Type']]\n",
        "\n",
        "# Display the top and last 50 rows\n",
        "print(df_selected.head(50))\n",
        "print(df_selected.tail(50))"
      ],
      "metadata": {
        "colab": {
          "base_uri": "https://localhost:8080/"
        },
        "id": "vJn2ngLs6eey",
        "outputId": "e7713131-234f-4fa6-81b2-486133f2946e"
      },
      "execution_count": 2,
      "outputs": [
        {
          "output_type": "stream",
          "name": "stdout",
          "text": [
            "   start_date                           Country        Disaster Type\n",
            "3  2000-01-08                            Angola                Flood\n",
            "5  2000-01-16                         Guatemala    Volcanic activity\n",
            "6  2000-01-18        Iran (Islamic Republic of)                Storm\n",
            "7  2000-01-26                        Mozambique                Flood\n",
            "8  2000-01-15                      South Africa             Wildfire\n",
            "9  2000-01-01                            Brazil                Flood\n",
            "11 2000-01-02          United States of America                Storm\n",
            "12 2000-01-02                        Bangladesh           Earthquake\n",
            "15 2000-01-14                             China           Earthquake\n",
            "16 2000-01-26                             China           Earthquake\n",
            "17 2000-01-30                           Réunion                Storm\n",
            "18 2000-01-28                       Philippines                Flood\n",
            "19 2000-01-11                             China           Earthquake\n",
            "20 2000-01-26                      South Africa                Flood\n",
            "23 2000-02-02        Iran (Islamic Republic of)           Earthquake\n",
            "28 2000-01-08       United Republic of Tanzania             Epidemic\n",
            "29 2000-01-01                           Somalia             Epidemic\n",
            "30 2000-01-07                           Lesotho             Epidemic\n",
            "32 2000-01-06                             Kenya             Epidemic\n",
            "33 2000-02-14        Iran (Islamic Republic of)           Earthquake\n",
            "34 2000-01-22                       Philippines                Flood\n",
            "35 2000-02-13          United States of America                Storm\n",
            "36 2000-02-10            Bosnia and Herzegovina  Mass movement (wet)\n",
            "37 2000-01-01       United Republic of Tanzania             Epidemic\n",
            "38 2000-02-11       United Republic of Tanzania             Epidemic\n",
            "39 2000-06-21                           Iceland           Earthquake\n",
            "41 2000-02-18          United States of America                Flood\n",
            "42 2000-11-08                          Colombia           Earthquake\n",
            "43 2000-02-22                         Indonesia  Mass movement (wet)\n",
            "44 2000-01-26                          Zimbabwe                Flood\n",
            "46 2000-02-24                       Philippines    Volcanic activity\n",
            "48 2000-01-19                            Israel                Storm\n",
            "49 2000-01-24                            Jordan                Storm\n",
            "51 2000-02-27                         Australia                Storm\n",
            "53 2000-01-01                             Sudan             Epidemic\n",
            "54 2000-03-03                            Zambia                Flood\n",
            "56 2000-02-17                        Madagascar                Storm\n",
            "57 2000-02-18                        Mozambique                Storm\n",
            "61 2000-03-09                         Argentina                Flood\n",
            "65 2000-01-15  Democratic Republic of the Congo             Epidemic\n",
            "66 2000-02-26          United States of America             Wildfire\n",
            "67 2000-03-16                              Peru                Flood\n",
            "68 2000-03-13  Bolivia (Plurinational State of)                Flood\n",
            "71 2000-01-01                          Ethiopia             Epidemic\n",
            "72 2000-01-01       United Republic of Tanzania             Epidemic\n",
            "73 2000-03-05                        Bangladesh                Storm\n",
            "74 2000-03-27                            Angola                Flood\n",
            "75 2000-03-28                           Austria  Mass movement (wet)\n",
            "76 2000-03-28                             China                Storm\n",
            "77 2000-03-06                             Niger             Epidemic\n",
            "      start_date                           Country        Disaster Type\n",
            "10252 2024-02-29                         Australia                Flood\n",
            "10253 2025-02-05  Bolivia (Plurinational State of)                Flood\n",
            "10254 2025-02-08                             China  Mass movement (wet)\n",
            "10255 2025-02-07                       Philippines                Flood\n",
            "10256 2025-02-13          United States of America                Storm\n",
            "10257 2025-02-15                        Madagascar                Flood\n",
            "10258 2025-02-19                          Botswana                Flood\n",
            "10259 2025-02-17                              Peru                Flood\n",
            "10260 2025-02-19                          Malaysia                Flood\n",
            "10261 2025-02-24                       Afghanistan                Flood\n",
            "10262 2025-02-16                        Madagascar                Flood\n",
            "10264 2025-02-11                          Colombia                Storm\n",
            "10265 2025-02-27                             Japan             Wildfire\n",
            "10267 2025-02-20                           Georgia                Storm\n",
            "10268 2025-02-28                             India  Mass movement (wet)\n",
            "10269 2025-02-28                           Réunion                Storm\n",
            "10270 2025-03-02                         Indonesia                Flood\n",
            "10271 2025-02-27                        Madagascar                Storm\n",
            "10272 2025-03-13                           Ecuador                Storm\n",
            "10273 2025-03-07                        Madagascar                Storm\n",
            "10274 2025-03-10                        Mozambique                Storm\n",
            "10275 2025-03-11                            Malawi                Storm\n",
            "10276 2025-03-06                         Argentina                Flood\n",
            "10277 2025-03-08                          Colombia  Mass movement (wet)\n",
            "10278 2025-03-08                          Malaysia                Flood\n",
            "10279 2025-03-11                          Thailand                Storm\n",
            "10280 2025-03-14          United States of America                Storm\n",
            "10281 2025-03-14                             Italy                Flood\n",
            "10282 2025-03-15                         Indonesia                Flood\n",
            "10283 2025-03-01                              Peru                Flood\n",
            "10284 2025-03-21                 Republic of Korea             Wildfire\n",
            "10285 2025-03-23                             Japan             Wildfire\n",
            "10286 2025-03-22                             India                Storm\n",
            "10287 2025-03-28                             China           Earthquake\n",
            "10288 2025-03-28                           Myanmar           Earthquake\n",
            "10289 2025-03-28                          Thailand           Earthquake\n",
            "10291 2025-03-07                              Iraq                Flood\n",
            "10292 2025-03-26            Bosnia and Herzegovina                Flood\n",
            "10293 2025-03-26                           Croatia                Flood\n",
            "10294 2025-04-01          United States of America                Storm\n",
            "10296 2025-04-04  Democratic Republic of the Congo                Flood\n",
            "10297 2025-04-13                        Tajikistan           Earthquake\n",
            "10298 2025-04-09                             Nepal                Storm\n",
            "10299 2025-03-01                           Namibia                Flood\n",
            "10300 2025-04-01                         Indonesia                Flood\n",
            "10301 2025-04-02          United States of America                Storm\n",
            "10302 2025-04-10                          Viet Nam                Storm\n",
            "10303 2025-04-03                            Brazil                Flood\n",
            "10304 2025-04-14                              Iraq                Storm\n",
            "10305 2025-04-12                    Canary Islands                Storm\n"
          ]
        }
      ]
    },
    {
      "cell_type": "code",
      "source": [
        "def get_weather_data(location, date):\n",
        "    # URL for the API endpoint (for historical weather)\n",
        "    url = f\"https://api.worldweatheronline.com/premium/v1/past-weather.ashx\"\n",
        "\n",
        "    # Parameters for the API request\n",
        "    params = {\n",
        "        \"key\": api_key,\n",
        "        \"q\": location,           # Location entered by the user\n",
        "        \"date\": date,            # Date entered by the user\n",
        "        \"format\": \"json\",        # We want the response in JSON format\n",
        "        \"tp\": \"24\",              # Time period for the weather data (1-hour intervals)\n",
        "    }\n",
        "    response = requests.get(url, params=params)\n",
        "    data  = response.json()\n",
        "    try:\n",
        "        temp_celsius = data['data']['weather'][0]['hourly'][0]['tempC']\n",
        "        temp_celsius = float(temp_celsius)  # Ensure it's numeric\n",
        "        temp_fahrenheit = (temp_celsius * 9/5) + 32\n",
        "        return round(temp_fahrenheit, 2)\n",
        "    except (KeyError, IndexError, TypeError, ValueError):\n",
        "        return None  # Handle errors\n",
        "\n",
        "def search_disasters_by_country(df, country):\n",
        "    # Filter disasters for the specified country\n",
        "    df_filtered = df[df['Country'].str.contains(country, case=False, na=False)]\n",
        "    df_filtered = df_filtered.sort_values(by='start_date', ascending=False).head(5)\n",
        "\n",
        "    # Get weather for each disaster\n",
        "    temperatures = []\n",
        "    for _, row in df_filtered.iterrows():\n",
        "        location = row['Country']\n",
        "        date_str = row['start_date'].strftime('%Y-%m-%d')\n",
        "        temp = get_weather_data(location, date_str)\n",
        "        temperatures.append(temp)\n",
        "\n",
        "    # Add temperature column to the result\n",
        "    df_filtered = df_filtered.copy()\n",
        "    df_filtered['Temperature (F)'] = temperatures\n",
        "    return df_filtered[['start_date', 'Country', 'Disaster Type', 'Temperature (F)']]\n",
        "\n",
        "def search_disasters_by_keyword(df, keyword):\n",
        "    # Filter by disaster keyword\n",
        "    df_filtered = df[df['Disaster Type'].str.contains(keyword, case=False, na=False)]\n",
        "    df_filtered = df_filtered.sort_values(by='start_date', ascending=False).head(20)\n",
        "\n",
        "    # Get temperatures\n",
        "    temperatures = []\n",
        "    for _, row in df_filtered.iterrows():\n",
        "        location = row['Country']\n",
        "        date_str = row['start_date'].strftime('%Y-%m-%d')\n",
        "        temp = get_weather_data(location, date_str)\n",
        "        temperatures.append(temp)\n",
        "\n",
        "    # Add temperatures to DataFrame\n",
        "    df_filtered = df_filtered.copy()\n",
        "    df_filtered['Temperature (F)'] = temperatures\n",
        "\n",
        "\n",
        "\n",
        "    return df_filtered"
      ],
      "metadata": {
        "id": "uxeaGiVobtT5"
      },
      "execution_count": 3,
      "outputs": []
    },
    {
      "cell_type": "code",
      "source": [
        "while True:\n",
        "    print(\"\\nChoose an option:\")\n",
        "    print(\"1: Search for disasters by country and get weather\")\n",
        "    print(\"2: Search for disasters by keyword, get weather, and plot\")\n",
        "    print(\"3: Exit\")\n",
        "\n",
        "    choice = input(\"Enter your choice (1, 2, or 3): \")\n",
        "\n",
        "    if choice == '1':\n",
        "        country = input(\"Enter a country: \")\n",
        "        result = search_disasters_by_country(df_selected, country)\n",
        "        print(result[['start_date', 'Country', 'Disaster Type', 'Temperature (F)']])\n",
        "\n",
        "    elif choice == '2':\n",
        "        keyword = input(\"Enter a disaster keyword (e.g., flood, earthquake): \")\n",
        "        result = search_disasters_by_keyword(df_selected, keyword)\n",
        "        print(result[['start_date', 'Country', 'Disaster Type', 'Temperature (F)']])\n",
        "\n",
        "        # Plotting the result\n",
        "        plt.figure(figsize=(10, 6))\n",
        "        sns.scatterplot(x='start_date', y='Temperature (F)', data=result, hue='Disaster Type', palette='deep', legend=False)\n",
        "        plt.title(f\"Temperature on Days of '{keyword}' Disasters\")\n",
        "        plt.xlabel(\"Date\")\n",
        "        plt.ylabel(\"Temperature (F)\")\n",
        "        plt.xticks(rotation=45)\n",
        "        plt.tight_layout()\n",
        "        plt.show()\n",
        "\n",
        "    elif choice == '3':\n",
        "        print(\"Exiting program.\")\n",
        "        break\n",
        "    else:\n",
        "        print(\"Invalid choice. Please enter 1, 2, or 3.\")"
      ],
      "metadata": {
        "colab": {
          "base_uri": "https://localhost:8080/"
        },
        "id": "pVuncBpzbr3z",
        "outputId": "e94208f9-f293-4a2e-e1f6-51229988e67c"
      },
      "execution_count": 4,
      "outputs": [
        {
          "output_type": "stream",
          "name": "stdout",
          "text": [
            "\n",
            "Choose an option:\n",
            "1: Search for disasters by country and get weather\n",
            "2: Search for disasters by keyword, get weather, and plot\n",
            "3: Exit\n",
            "Enter your choice (1, 2, or 3): 1\n",
            "Enter a country: Myanmar\n",
            "      start_date  Country        Disaster Type  Temperature (F)\n",
            "10288 2025-03-28  Myanmar           Earthquake             98.6\n",
            "10093 2024-09-08  Myanmar                Storm             80.6\n",
            "10022 2024-06-30  Myanmar                Flood             87.8\n",
            "9954  2024-04-01  Myanmar  Extreme temperature            104.0\n",
            "9701  2023-10-05  Myanmar                Flood             89.6\n",
            "\n",
            "Choose an option:\n",
            "1: Search for disasters by country and get weather\n",
            "2: Search for disasters by keyword, get weather, and plot\n",
            "3: Exit\n",
            "Enter your choice (1, 2, or 3): 3\n",
            "Exiting program.\n"
          ]
        }
      ]
    },
    {
      "cell_type": "markdown",
      "source": [
        "***search_disasters_by_keyword*** function examples:\n"
      ],
      "metadata": {
        "id": "-t5cI7iQcl4x"
      }
    },
    {
      "cell_type": "code",
      "source": [
        "#search_disasters_by_keyword\n",
        "keyword = input(\"Enter a disaster keyword (e.g., flood, earthquake): \")\n",
        "result = search_disasters_by_keyword(df_selected, keyword)\n",
        "print(result[['start_date', 'Country', 'Disaster Type', 'Temperature (F)']])\n",
        "\n",
        "# Plotting the result\n",
        "plt.figure(figsize=(10, 6))\n",
        "sns.scatterplot(x='start_date', y='Temperature (F)', data=result, hue='Disaster Type', palette='deep', legend=False)\n",
        "plt.title(f\"Temperature on Days of '{keyword}' Disasters\")\n",
        "plt.xlabel(\"Date\")\n",
        "plt.ylabel(\"Temperature (F)\")\n",
        "plt.xticks(rotation=45)\n",
        "plt.tight_layout()\n",
        "plt.show()"
      ],
      "metadata": {
        "colab": {
          "base_uri": "https://localhost:8080/",
          "height": 989
        },
        "id": "nMG0DXo7cqz6",
        "outputId": "6b5a5815-4904-4a32-f02b-44861ab761c7"
      },
      "execution_count": null,
      "outputs": [
        {
          "output_type": "stream",
          "name": "stdout",
          "text": [
            "Enter a disaster keyword (e.g., flood, earthquake): earthquake\n",
            "      start_date                     Country Disaster Type  Temperature (F)\n",
            "10297 2025-04-13                  Tajikistan    Earthquake             75.2\n",
            "10289 2025-03-28                    Thailand    Earthquake            100.4\n",
            "10288 2025-03-28                     Myanmar    Earthquake             98.6\n",
            "10287 2025-03-28                       China    Earthquake             50.0\n",
            "10236 2025-01-07                       Nepal    Earthquake             62.6\n",
            "10235 2025-01-07                       China    Earthquake             41.0\n",
            "10241 2025-01-04                    Ethiopia    Earthquake             69.8\n",
            "10210 2024-12-17                     Vanuatu    Earthquake             86.0\n",
            "10170 2024-11-10                        Cuba    Earthquake             82.4\n",
            "10132 2024-10-16                     Türkiye    Earthquake              NaN\n",
            "10111 2024-09-18                   Indonesia    Earthquake             93.2\n",
            "10065 2024-08-02                 Philippines    Earthquake             86.0\n",
            "10029 2024-06-28                        Peru    Earthquake             66.2\n",
            "10001 2024-06-18  Iran (Islamic Republic of)    Earthquake             80.6\n",
            "9941  2024-04-27                   Indonesia    Earthquake             91.4\n",
            "9908  2024-04-03  Taiwan (Province of China)    Earthquake             64.4\n",
            "9898  2024-03-22                   Indonesia    Earthquake             89.6\n",
            "9897  2024-03-20            Papua New Guinea    Earthquake             87.8\n",
            "9845  2024-01-23                  Kazakhstan    Earthquake             10.4\n",
            "9844  2024-01-23                       China    Earthquake             30.2\n"
          ]
        },
        {
          "output_type": "display_data",
          "data": {
            "text/plain": [
              "<Figure size 1000x600 with 1 Axes>"
            ],
            "image/png": "[encoded data removed]"
          },
          "metadata": {}
        }
      ]
    },
    {
      "cell_type": "code",
      "source": [
        "#search_disasters_by_keyword\n",
        "keyword = input(\"Enter a disaster keyword (e.g., flood, earthquake): \")\n",
        "result = search_disasters_by_keyword(df_selected, keyword)\n",
        "print(result[['start_date', 'Country', 'Disaster Type', 'Temperature (F)']])\n",
        "\n",
        "# Plotting the result\n",
        "plt.figure(figsize=(10, 6))\n",
        "sns.scatterplot(x='start_date', y='Temperature (F)', data=result, hue='Disaster Type', palette='deep', legend=False)\n",
        "plt.title(f\"Temperature on Days of '{keyword}' Disasters\")\n",
        "plt.xlabel(\"Date\")\n",
        "plt.ylabel(\"Temperature (F)\")\n",
        "plt.xticks(rotation=45)\n",
        "plt.tight_layout()\n",
        "plt.show()"
      ],
      "metadata": {
        "colab": {
          "base_uri": "https://localhost:8080/",
          "height": 989
        },
        "id": "S4m-ivVyAr3i",
        "outputId": "386096bb-1da3-4e6c-a540-4b8aff71c7e8"
      },
      "execution_count": null,
      "outputs": [
        {
          "output_type": "stream",
          "name": "stdout",
          "text": [
            "Enter a disaster keyword (e.g., flood, earthquake): Wildfire\n",
            "      start_date                   Country Disaster Type  Temperature (F)\n",
            "10285 2025-03-23                     Japan      Wildfire             71.6\n",
            "10284 2025-03-21         Republic of Korea      Wildfire             51.8\n",
            "10265 2025-02-27                     Japan      Wildfire             57.2\n",
            "10248 2025-01-27                     Chile      Wildfire             80.6\n",
            "10244 2025-01-27                 Australia      Wildfire             91.4\n",
            "10242 2025-01-15                 Argentina      Wildfire             98.6\n",
            "10237 2025-01-06  United States of America      Wildfire             30.2\n",
            "10200 2024-12-09  United States of America      Wildfire             51.8\n",
            "10190 2024-11-23      Syrian Arab Republic      Wildfire             53.6\n",
            "10162 2024-11-06  United States of America      Wildfire             75.2\n",
            "10099 2024-09-15                  Portugal      Wildfire             89.6\n",
            "10103 2024-09-04  United States of America      Wildfire             77.0\n",
            "10073 2024-08-13                   Türkiye      Wildfire              NaN\n",
            "10067 2024-08-10                    Greece      Wildfire             95.0\n",
            "10048 2024-07-22                    Canada      Wildfire             77.0\n",
            "10120 2024-07-01                      Peru      Wildfire             68.0\n",
            "10026 2024-06-21                    Canada      Wildfire             75.2\n",
            "10011 2024-06-17  United States of America      Wildfire             93.2\n",
            "9965  2024-05-12                    Canada      Wildfire             57.2\n",
            "9900  2024-03-15                     China      Wildfire             69.8\n"
          ]
        },
        {
          "output_type": "display_data",
          "data": {
            "text/plain": [
              "<Figure size 1000x600 with 1 Axes>"
            ],
            "image/png": "[encoded data removed]"
          },
          "metadata": {}
        }
      ]
    }
  ]
}